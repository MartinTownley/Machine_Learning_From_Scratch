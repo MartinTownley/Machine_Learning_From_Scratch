{
 "cells": [
  {
   "cell_type": "markdown",
   "metadata": {},
   "source": [
    "# Machine Learning From Scratch: Logistic Regression & Gradient Descent\n",
    "\n",
    "## 1. Implementing logistic regression in python using batch gradient descent"
   ]
  },
  {
   "cell_type": "markdown",
   "metadata": {},
   "source": [
    "### a) Initialising and visualising data\n",
    "The data is taken from a Wikipedia page on logistic regression, and explores the probability of passing an exam given varying hours of studying (https://en.wikipedia.org/wiki/Logistic_regression#Probability_of_passing_an_exam_versus_hours_of_study).\n",
    "It is split into test and train data, though these are not actually used in this instance, as the training is performed on the whole data set. "
   ]
  },
  {
   "cell_type": "code",
   "execution_count": 11,
   "metadata": {},
   "outputs": [
    {
     "data": {
      "image/png": "[encoded data removed]",
      "text/plain": [
       "<Figure size 432x288 with 1 Axes>"
      ]
     },
     "metadata": {
      "needs_background": "light"
     },
     "output_type": "display_data"
    }
   ],
   "source": [
    "import numpy as np\n",
    "import matplotlib.pyplot as plt\n",
    "\n",
    "# Load data\n",
    "X = np.asarray ([[0.50], [0.75], [1.00], [1.25], [1.50], [1.75], [3.00], [4.75], [1.75], [3.25], [5.00], [2.00], [2.25], [2.50], [2.75], [3.50], [4.00], [4.25], [4.50], [5.50]])\n",
    "\n",
    "# Create design matrix by prepending a column of ones to the data array\n",
    "X = np.c_[np.ones((X.shape[0], 1)), X]\n",
    "\n",
    "# Add a new axis to configure shape of (20,1)\n",
    "y = np.asarray([0, 0, 0, 0, 0, 0, 1, 0, 1, 0, 1,0,1,0,1,1,1,1,1,1])[:, np.newaxis]\n",
    "\n",
    "# Split into test and train\n",
    "data_len = len(y)\n",
    "nTestSamples = np.int(0.1*data_len)\n",
    "idx_test = np.arange( nTestSamples)\n",
    "idx_train = np.arange(idx_test[-1]+1, data_len)\n",
    "X_test = X[idx_test]\n",
    "X_train = X[idx_train]\n",
    "y_test = y[idx_test]\n",
    "y_train = y[idx_train]\n",
    "\n",
    "# Plot the data\n",
    "fig = plt.figure()\n",
    "plt.scatter(X[:,1], y)\n",
    "plt.xlabel('Hours Studied')\n",
    "plt.ylabel('Pass Probability')\n",
    "plt.show()\n",
    "\n",
    "# ========= Printouts =========\n",
    "#print(\"data len: \",data_len)\n",
    "#print(\"nTestSamples: \",nTestSamples)\n",
    "#print(\"idx_test:  \",idx_test)\n",
    "#print(\"idx_test -1 + 1: \", idx_test[-1]+1)\n",
    "#print(\"x test \", X_test)\n",
    "#print(\"x train \", X_train)\n",
    "#print(\"y test \", y_test)\n",
    "#print(\"y train \", y_train)\n",
    "#print(\"y shape: \",y.shape)"
   ]
  },
  {
   "cell_type": "markdown",
   "metadata": {},
   "source": [
    "### b) Helper Function 1: Normalise data (centre around the mean)\n",
    "\n",
    "This function re-maps the values in their relation to the mean, so that it conforms to the sigmoid equation. Since the function expects a design matrix (i.e. the data is preceded by a column of ones), it only processes the second column, before returning the full design matrix again. \n",
    "\n",
    "Normalise equation:\n",
    "$ \\Large X_{norm} = \\frac{X - X_{min}}{ X_{max} - X_{min}} $\n",
    "\n",
    "\n"
   ]
  },
  {
   "cell_type": "code",
   "execution_count": 2,
   "metadata": {},
   "outputs": [],
   "source": [
    "def centered(x):\n",
    "    '''\n",
    "    Takes in a design matrix x, and centres the data\n",
    "    around the mean. \n",
    "    \n",
    "            Parameters:\n",
    "                    x (array): A design matrix representing the raw data\n",
    "            Returns:\n",
    "                    x (array): New design matrix where data is normalised,\n",
    "                                or centered around the mean. \n",
    "    '''\n",
    "    \n",
    "    x[:,1] -= x[:,1].mean() \n",
    "    \n",
    "    return x \n"
   ]
  },
  {
   "cell_type": "markdown",
   "metadata": {},
   "source": [
    "### Plotting new normalised data"
   ]
  },
  {
   "cell_type": "code",
   "execution_count": 3,
   "metadata": {},
   "outputs": [
    {
     "data": {
      "text/plain": [
       "<function matplotlib.pyplot.show(*args, **kw)>"
      ]
     },
     "execution_count": 3,
     "metadata": {},
     "output_type": "execute_result"
    },
    {
     "data": {
      "image/png": "[encoded data removed]",
      "text/plain": [
       "<Figure size 432x288 with 1 Axes>"
      ]
     },
     "metadata": {
      "needs_background": "light"
     },
     "output_type": "display_data"
    }
   ],
   "source": [
    "fig = plt.figure()\n",
    "plt.scatter( centered(X)[:,1], y)\n",
    "plt.xlabel('Hours Studied [Normalised]')\n",
    "plt.ylabel('Pass Probability')\n",
    "plt.show"
   ]
  },
  {
   "cell_type": "markdown",
   "metadata": {},
   "source": [
    "### c) Helper Function 2: Sigmoid function (aka logistic function)\n",
    "\n",
    "Sigmoid equation: $ \\Large \\:\\:g(z) = \\frac{1}{ 1\\: +\\: e^{-z }} $"
   ]
  },
  {
   "cell_type": "code",
   "execution_count": 4,
   "metadata": {},
   "outputs": [],
   "source": [
    "def sigmoid(x, params):\n",
    "    '''\n",
    "    Takes in a dataset 'x' and parameters 'params',\n",
    "    and outputs a value between 0 and 1, representing\n",
    "    the probability that y is equal to 1. It calls the \n",
    "    previously defined \"centered()\" function, thus normalising\n",
    "    the incoming data. Uses vectorisation to perform the \n",
    "    calculation.\n",
    "    \n",
    "                Paramaters:\n",
    "                        x (array): A design matrix representing the dataset.\n",
    "                        params (array): An array of values by which x is parameterised.\n",
    "                Returns: \n",
    "                        result (array): An array of probability values between\n",
    "                                        zero and one. \n",
    "    \n",
    "    '''\n",
    "    result = 1 / (1 + np.exp ( -1 * ( centered(x) @ params   )) )\n",
    "    return result\n"
   ]
  },
  {
   "cell_type": "markdown",
   "metadata": {},
   "source": [
    "### Visualising the cost function\n"
   ]
  },
  {
   "cell_type": "code",
   "execution_count": 5,
   "metadata": {},
   "outputs": [
    {
     "name": "stderr",
     "output_type": "stream",
     "text": [
      "/Users/martintownley/anaconda3/lib/python3.7/site-packages/ipykernel_launcher.py:2: RuntimeWarning: divide by zero encountered in log\n",
      "  \n"
     ]
    },
    {
     "data": {
      "image/png": "[encoded data removed]",
      "text/plain": [
       "<Figure size 432x288 with 1 Axes>"
      ]
     },
     "metadata": {
      "needs_background": "light"
     },
     "output_type": "display_data"
    }
   ],
   "source": [
    "\n",
    "p = np.arange(0,1,0.01)\n",
    "plt.plot(p, -1 * np.log(p), label = 'y = 1')\n",
    "\n",
    "plt.plot(p, -1 * (np.log(1-p)), label = 'y = 0')\n",
    "plt.legend()\n",
    "\n",
    "\n",
    "plt.show()"
   ]
  },
  {
   "cell_type": "markdown",
   "metadata": {},
   "source": [
    "### d) Helper Function 3: Loss function (cost function)\n",
    "\n",
    "\n",
    "Loss function equation:\n",
    "$ \\large \\:\\:   J(\\Theta) = \\frac{1}{2m}\\sum_{i=1}^m \\:Cost(h_\\Theta(x^{(i)}),y^{(i)})\\:=\\: \\frac{1}{2m}\\sum_{i=1}^m (\\frac{1}{ 1\\:+\\:e ^{-\\Theta T x^{(i)} }} \\: - \\: y^{(i)})^{2}  $\n",
    "\n",
    "Cross-entropy loss function equation:\n",
    "\n",
    "$ \\large \\:\\: Cost(h_\\Theta (x),y) \\:\\: -y \\: \\cdot \\: log(h_\\Theta (x)) \\: - \\: (1\\:-\\:y) \\: \\cdot \\: log(1\\:-\\:h_\\Theta (x))$\n"
   ]
  },
  {
   "cell_type": "code",
   "execution_count": 6,
   "metadata": {},
   "outputs": [],
   "source": [
    " def loss_func(hyp, target):\n",
    "    '''\n",
    "    Takes an array of probabilities, i.e. the output of the sigmoid function,\n",
    "    and the target y values. It computes the average loss overa ll the individual\n",
    "    loss values, returning a single value representing the loss / cost.\n",
    "                \n",
    "                Parameters:\n",
    "                        hyp (array): An array of hypothesised probabilities.\n",
    "                        target (array): An array representing the actual y values,\n",
    "                                        or the target data.\n",
    "                Returns:\n",
    "                        loss (number): A value representing the loss/cost.\n",
    "    '''\n",
    "    \n",
    "    # Desired shapes of hyp and target are (1,20) and (20,1) respectively,\n",
    "    # so transpose the target. This allows vectorised computation. \n",
    "    \n",
    "    return 1/m * (- target.T @ np.log(hyp) - (1 - target.T) @ np.log(1 - hyp ))"
   ]
  },
  {
   "cell_type": "markdown",
   "metadata": {},
   "source": [
    "### e) Helper Function 4: Predictor function"
   ]
  },
  {
   "cell_type": "code",
   "execution_count": 7,
   "metadata": {},
   "outputs": [],
   "source": [
    "def predictor(x):\n",
    "    '''\n",
    "    Takes in array of probabilities, i.e. the output of the sigmoid function,\n",
    "    and rounds the value, thereby asserting the prediction of which class \n",
    "    each data point will fall into. \n",
    "                \n",
    "                Parameters:\n",
    "                        x (array): An array of hypothesised probabilities,\n",
    "                                    between zero and one.\n",
    "                Returns:\n",
    "                        rounded x (array): An array of rounded values (0 or 1), denoting\n",
    "                                    predicted class.\n",
    "    '''\n",
    "    return np.round(x)\n",
    "\n"
   ]
  },
  {
   "cell_type": "markdown",
   "metadata": {},
   "source": [
    "### f) Helper Function 5: Gradient calculator\n",
    "This function gets called within the overall log_reg function at the next stage. "
   ]
  },
  {
   "cell_type": "code",
   "execution_count": 8,
   "metadata": {},
   "outputs": [],
   "source": [
    "def gradient(params, x, target):\n",
    "    '''\n",
    "    Takes in a parameters vector, the design matrix data x,\n",
    "    and the target values y. Creates a probability vector\n",
    "    by calling the sigmoid function on x and params, and calculates\n",
    "    the gradient of the loss given these values by a \n",
    "    vectorised computation.\n",
    "    '''\n",
    "    probVector = sigmoid(x, params)\n",
    "    \n",
    "    return (1/m) * (x.T @ (probVector - target))"
   ]
  },
  {
   "cell_type": "markdown",
   "metadata": {},
   "source": [
    "### g) Putting it all together: The Logistic Regression Function"
   ]
  },
  {
   "cell_type": "code",
   "execution_count": 9,
   "metadata": {},
   "outputs": [],
   "source": [
    "def log_reg(params, x, target, iterations, LR, LT):\n",
    "    '''\n",
    "    Takes in a parameters vector, the design matrix data x,\n",
    "    the target y values, and number of iterations, and performs\n",
    "    a logistic regression on the data. Inside a for loop, this function \n",
    "    first calculates the gradient by calling the \"gradient\" helper\n",
    "    function(1) (which in turn calls the \"sigmoid\" function, which itself \n",
    "    in turn calls the \"centered\" function). It then updates the parameters\n",
    "    by subtracting from themselves the learning rate multiplied by the gradient(2).\n",
    "    After this, it calculates a new set of probabilities given the newly\n",
    "    updated parameters(3), and from these calculates the cross-entropy loss\n",
    "    using the \"loss\" function(4). The loss difference, \"loss_diff\" is calculated\n",
    "    to determine by how much the loss value is changing between iterations,\n",
    "    and these values are stored in a vector named \"cost_record\"(5).\n",
    "    The accuracy of the probabilities are calculated at each iteration by \n",
    "    comparing predicted values (using the \"predictor\" function) with the target y\n",
    "    values(6). Finally, a check is made to see whether the loss difference\n",
    "    has fallen below a given loss threshold, at which point the loop is\n",
    "    interupted and relevant data is reported (the iteration of convergence,\n",
    "    the parameters, and the accuracy score).\n",
    "                \n",
    "                Parameters:\n",
    "                        params (array): A vector of intiial theta values by which\n",
    "                                        x is parameterised.\n",
    "                        x (array): An array containing the raw data.\n",
    "                        target (array): An array containing the target y values.\n",
    "                        iterations (int): The maximum number of times the training loop\n",
    "                                        will execute. \n",
    "                        LR (int): The learning rate of the logistic regression function.\n",
    "                        LT (int): The loss threshold – training loop will break\n",
    "                                        if the change in loss between iterations falls\n",
    "                                        below this value.\n",
    "                Returns:\n",
    "                        params (array): A vector of the ideal parameters.\n",
    "                        cost_record (array): An array of loss/cost values at each\n",
    "                                        iteration.\n",
    "                        i (int): The number of iterations before convergence.\n",
    "                        accuracy (float): A floating point value between 0 and 1 \n",
    "                                        expressing the accuracy of the model. \n",
    "                \n",
    "    '''\n",
    "    # Initialise learning rate\n",
    "    alpha = LR\n",
    "    \n",
    "    # Initialise cost and accuracy record vectors\n",
    "    cost_record = np.zeros((iterations,1))\n",
    "    accuracy_record = np.zeros((iterations,1))\n",
    "    \n",
    "    # Initialise loss and previous loss values\n",
    "    loss = 10\n",
    "    prev_loss = 10\n",
    "    \n",
    "    # Initilise loss threshold\n",
    "    lossThreshold = LT\n",
    "    \n",
    "    for i in range(iterations):\n",
    "    \n",
    "        # 1. get the gradient, given the parameters\n",
    "        theGrad = gradient(params, x, target)\n",
    "        #print(\"theGrad: \",theGrad)\n",
    "        \n",
    "        # 2. Update the parameters \n",
    "        params = params - alpha * theGrad\n",
    "        #print(\"params: \", params)\n",
    "        \n",
    "        # 3. Make predictions given new parameters\n",
    "        probs = sigmoid(x, params)\n",
    "        #print(\"probs: \", probs)\n",
    "        \n",
    "        # 4. Calculate the loss of the previous predictions:\n",
    "        loss = loss_func(probs, y)\n",
    "        #print(\"loss: \", loss)\n",
    "        \n",
    "        loss_diff =  abs(np.float(prev_loss - loss))\n",
    "        #print(\"loss diff: \",loss_diff)\n",
    "        \n",
    "        # 5. store the loss values\n",
    "        cost_record[i] = loss\n",
    "        \n",
    "        # 6. Calculate the accuracy\n",
    "        preds = predictor(probs)\n",
    "        \n",
    "        accuracy = float(sum(preds == target)) / float(m)\n",
    "        #print(\"acc\", accuracy)\n",
    "        \n",
    "        prev_loss = np.copy(loss)\n",
    "        \n",
    "        if loss_diff < lossThreshold:\n",
    "            #print(\"threshold reached at iteration: \", (i))\n",
    "            break\n",
    "        \n",
    "    return params, cost_record, (i), accuracy"
   ]
  },
  {
   "cell_type": "markdown",
   "metadata": {},
   "source": [
    "### h) Calling the logistic regression function, graphing the loss\n",
    "Here values are intialised for the variables involved in the logistic regression. Theta is initialised as [0, 0].\n",
    "\n",
    "The cost is graphed against the number of iterations.\n"
   ]
  },
  {
   "cell_type": "code",
   "execution_count": 10,
   "metadata": {},
   "outputs": [
    {
     "data": {
      "image/png": "[encoded data removed]",
      "text/plain": [
       "<Figure size 432x288 with 1 Axes>"
      ]
     },
     "metadata": {
      "needs_background": "light"
     },
     "output_type": "display_data"
    },
    {
     "name": "stdout",
     "output_type": "stream",
     "text": [
      "Converged at iteration 4 , with parameters  [[0.03557424]\n",
      " [1.04961544]]\n",
      "Accuracy score at convergence:  0.75\n"
     ]
    }
   ],
   "source": [
    "# Initialise theta (parameters)\n",
    "theta = np.array([[0], [0]])\n",
    "\n",
    "# Set number of iterations/loops for the logistic regression function\n",
    "loops = 10000\n",
    "\n",
    "m = y.size\n",
    "\n",
    "# Set the learning rate and loss threshold\n",
    "learning_rate = 2\n",
    "loss_threshold = 0.0002\n",
    "\n",
    "# Call the function and assign to a variable\n",
    "loggyReg = log_reg(theta, X, y, loops, learning_rate, loss_threshold)\n",
    "\n",
    "convIter = loggyReg[2]\n",
    "\n",
    "# Plot data of the logistic regression function, and print important information\n",
    "fig = plt.figure()\n",
    "p = np.arange(0, convIter)\n",
    "fig.suptitle('Cost vs Iterations')\n",
    "plt.xlabel('Iterations')\n",
    "plt.ylabel('Cost')\n",
    "plt.plot(p, (loggyReg[1])[:(convIter)] )\n",
    "plt.show()\n",
    "\n",
    "\n",
    "\n",
    "print(\"Converged at iteration\", loggyReg[2], \", with parameters \", loggyReg[0])\n",
    "print(\"Accuracy score at convergence: \", loggyReg[3])"
   ]
  },
  {
   "cell_type": "markdown",
   "metadata": {},
   "source": [
    "## Explanation\n",
    "This notebook performs a logistic regression on a simple dataset, the probability of passing an exam versus hours of study.\n",
    "It organises the data into a design matrix, thereby prepending the x array with a column of ones. This reflects the fact that x0 in a hypothesis function is always 1. It is therefore sometimes omitted from the equation, leaving theta0 by itself, since all it does is multiply theta0 by 1. However, in order to perform vectorised computations, we require the x0 values to be explicit. Vectorised computations allow matrix math to be performed at C-level, which is more efficient than python for loops. It also makes for more succinct and tidy code. \n",
    "\n",
    "The notebook defines a series of helper functions, which are all implicitly called from within the final log_reg function, so they do not need to be called separately.\n",
    "\n",
    "In order for the data to conform to the sigmoid function, a “centered()” function is provided which normalises/centres the data around the mean.\n",
    "\n",
    "A “sigmoid()” function is provided to map the dataset to values between zero and one, according to the sigmoid/logistic function equation. This outputs probabilities, between zero and one, that the data will fall into class 1, that of passing the exam. \n",
    "\n",
    "A “loss_func()” function is defined which calculates the overall loss value, given a hypothesised set of probabilities and the target y values. It performs a vectorised computation based on the cross-entropy cost equation. \n",
    "\n",
    "A “predictor()” function is defined to help determine accuracy of the model. It takes probability values determined by the sigmoid function, and rounds them to the nearest whole number, so that they become 0 or 1. In this way, these values act as predictions as to which class (pass or fail) the given data will fall into. The accuracy is calculated inside the main “log_reg()” function, by comparing the predicted values with the actual target data, and producing an accuracy score between 0 and 1. \n",
    "\n",
    "A “gradient()” function is defined to calculate the gradient of the loss function at each data point. This is also referred to as the derivative of the loss function. \n",
    "\n",
    "Finally, the “log_reg()” function puts everything together by performing gradient descent on the data, implicitly calling the helper functions to achieve this. \n"
   ]
  }
 ],
 "metadata": {
  "kernelspec": {
   "display_name": "Python 3",
   "language": "python",
   "name": "python3"
  },
  "language_info": {
   "codemirror_mode": {
    "name": "ipython",
    "version": 3
   },
   "file_extension": ".py",
   "mimetype": "text/x-python",
   "name": "python",
   "nbconvert_exporter": "python",
   "pygments_lexer": "ipython3",
   "version": "3.7.1"
  }
 },
 "nbformat": 4,
 "nbformat_minor": 2
}
